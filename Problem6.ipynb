{
  "nbformat": 4,
  "nbformat_minor": 0,
  "metadata": {
    "colab": {
      "provenance": [],
      "include_colab_link": true
    },
    "kernelspec": {
      "name": "java",
      "display_name": "java"
    },
    "language_info": {
      "name": "java"
    }
  },
  "cells": [
    {
      "cell_type": "markdown",
      "metadata": {
        "id": "view-in-github",
        "colab_type": "text"
      },
      "source": [
        "<a href=\"https://colab.research.google.com/github/kalyani2838/JV/blob/main/Problem6.ipynb\" target=\"_parent\"><img src=\"https://colab.research.google.com/assets/colab-badge.svg\" alt=\"Open In Colab\"/></a>"
      ]
    },
    {
      "cell_type": "code",
      "source": [
        "import java.util.*;\n",
        "\n",
        "public class LoopArrayList {\n",
        "   public static void main (String[] args) throws Exception {\n",
        "        List intList = new ArrayList();\n",
        "        for (int i=200; i <=500; i++) {\n",
        "            intList.add(i);\n",
        "        }\n",
        "        \n",
        "        for (int j=0; j<=intList.size()-1 ; j++)  {\n",
        "            System.out.println(intList.get(j));\n",
        "        }\n",
        "    }\n",
        "\n",
        "}"
      ],
      "metadata": {
        "id": "QmO4IETic0Ed"
      },
      "execution_count": null,
      "outputs": []
    }
  ]
}