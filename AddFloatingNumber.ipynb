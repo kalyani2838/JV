{
  "nbformat": 4,
  "nbformat_minor": 0,
  "metadata": {
    "colab": {
      "provenance": [],
      "authorship_tag": "ABX9TyO2HTvheZj/571fKhGfU8L5",
      "include_colab_link": true
    },
    "kernelspec": {
      "name": "python3",
      "display_name": "Python 3"
    },
    "language_info": {
      "name": "python"
    }
  },
  "cells": [
    {
      "cell_type": "markdown",
      "metadata": {
        "id": "view-in-github",
        "colab_type": "text"
      },
      "source": [
        "<a href=\"https://colab.research.google.com/github/kalyani2838/JV/blob/main/AddFloatingNumber.ipynb\" target=\"_parent\"><img src=\"https://colab.research.google.com/assets/colab-badge.svg\" alt=\"Open In Colab\"/></a>"
      ]
    },
    {
      "cell_type": "code",
      "source": [
        "public class AddFloatingNumbers{\n",
        "\n",
        "   public static void main (String args[]) {\n",
        "        float i = (float)8.6;\n",
        "        float j = (float)9.7;\n",
        "        float sum = i + j;\n",
        "        System.out.println(\"sum of two floating numbers: \" + sum);\n",
        "    }\n",
        "\n",
        "}\n",
        "\n"
      ],
      "metadata": {
        "colab": {
          "base_uri": "https://localhost:8080/",
          "height": 130
        },
        "id": "1RT-VRcjX5Nq",
        "outputId": "43dace06-9dc3-436a-c248-986e0278e8ec"
      },
      "execution_count": 9,
      "outputs": [
        {
          "output_type": "error",
          "ename": "SyntaxError",
          "evalue": "ignored",
          "traceback": [
            "\u001b[0;36m  File \u001b[0;32m\"<ipython-input-9-a8229dc03add>\"\u001b[0;36m, line \u001b[0;32m1\u001b[0m\n\u001b[0;31m    float i = (float)8.6;\u001b[0m\n\u001b[0m          ^\u001b[0m\n\u001b[0;31mSyntaxError\u001b[0m\u001b[0;31m:\u001b[0m invalid syntax\n"
          ]
        }
      ]
    }
  ]
}