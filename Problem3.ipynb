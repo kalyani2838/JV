{
  "nbformat": 4,
  "nbformat_minor": 0,
  "metadata": {
    "colab": {
      "provenance": [],
      "include_colab_link": true
    },
    "kernelspec": {
      "name": "java",
      "display_name": "java"
    },
    "language_info": {
      "name": "java"
    }
  },
  "cells": [
    {
      "cell_type": "markdown",
      "metadata": {
        "id": "view-in-github",
        "colab_type": "text"
      },
      "source": [
        "<a href=\"https://colab.research.google.com/github/kalyani2838/JV/blob/main/Problem3.ipynb\" target=\"_parent\"><img src=\"https://colab.research.google.com/assets/colab-badge.svg\" alt=\"Open In Colab\"/></a>"
      ]
    },
    {
      "cell_type": "code",
      "source": [
        "public class Child extends Parent  {\n",
        "   public static void main (String[] args) throws Exception {\n",
        "        \n",
        "        Parent child = new Parent();\n",
        "        System.out.println(child.getAge());\n",
        "        \n",
        "        Parent parent = new Parent(76);\n",
        "        System.out.println(parent.getAge());\n",
        "        \n",
        "        int childAge = 18;\n",
        "        \n",
        "        if(childAge < 25 || childAge > 55 ) {\n",
        "            throw new Exception(\"Age Mismatch\");\n",
        "        }\n",
        "    }\n",
        "    \n",
        "    public Child () {\n",
        "    }\n",
        "\n",
        "}\n",
        "\n",
        "class Parent {\n",
        "    private int age = 7;\n",
        "    public Parent () {\n",
        "    }\n",
        "    \n",
        "   public Parent (int age) {\n",
        "       this.age = age;\n",
        "   }\n",
        "\n",
        "   public int getAge() {\n",
        "       return age;\n",
        "   }\n",
        "   \n",
        "   public void setAge(int age) {\n",
        "       this.age = age;\n",
        "   }\n",
        "}"
      ],
      "metadata": {
        "id": "QmO4IETic0Ed"
      },
      "execution_count": null,
      "outputs": []
    }
  ]
}