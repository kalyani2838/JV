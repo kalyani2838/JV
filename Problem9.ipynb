{
  "nbformat": 4,
  "nbformat_minor": 0,
  "metadata": {
    "colab": {
      "provenance": [],
      "include_colab_link": true
    },
    "kernelspec": {
      "name": "java",
      "display_name": "java"
    },
    "language_info": {
      "name": "java"
    }
  },
  "cells": [
    {
      "cell_type": "markdown",
      "metadata": {
        "id": "view-in-github",
        "colab_type": "text"
      },
      "source": [
        "<a href=\"https://colab.research.google.com/github/kalyani2838/JV/blob/main/Problem9.ipynb\" target=\"_parent\"><img src=\"https://colab.research.google.com/assets/colab-badge.svg\" alt=\"Open In Colab\"/></a>"
      ]
    },
    {
      "cell_type": "code",
      "source": [
        "import java.util.*;\n",
        "\n",
        "public class PrintSpecificString {\n",
        "   public static void main (String[] args) throws Exception {\n",
        "        String str = \"ABCDE12345\";\n",
        "        String subStr = str.substring(5);\n",
        "        System.out.println(subStr);\n",
        "    }\n",
        "\n",
        "}"
      ],
      "metadata": {
        "id": "QmO4IETic0Ed"
      },
      "execution_count": null,
      "outputs": []
    }
  ]
}