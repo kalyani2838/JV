{
  "nbformat": 4,
  "nbformat_minor": 0,
  "metadata": {
    "colab": {
      "provenance": [],
      "include_colab_link": true
    },
    "kernelspec": {
      "name": "java",
      "display_name": "java"
    },
    "language_info": {
      "name": "java"
    }
  },
  "cells": [
    {
      "cell_type": "markdown",
      "metadata": {
        "id": "view-in-github",
        "colab_type": "text"
      },
      "source": [
        "<a href=\"https://colab.research.google.com/github/kalyani2838/JV/blob/main/Problem4.ipynb\" target=\"_parent\"><img src=\"https://colab.research.google.com/assets/colab-badge.svg\" alt=\"Open In Colab\"/></a>"
      ]
    },
    {
      "cell_type": "code",
      "source": [
        "public class Calc {\n",
        "   public static void main (String[] args) throws Exception {\n",
        "        \n",
        "        int a = 8;\n",
        "        int b = 2;\n",
        "        \n",
        "        String operation = \"add\";\n",
        "        System.out.println(execute(operation, a, b));\n",
        "        \n",
        "        operation = \"subs\";\n",
        "        System.out.println(execute(operation, a, b));\n",
        "        \n",
        "        operation = \"multiplication\";\n",
        "        System.out.println(execute(operation, a, b));\n",
        "        \n",
        "        operation = \"division\";\n",
        "        System.out.println(execute(operation, a, b));\n",
        "    }\n",
        "    \n",
        "    public static int execute (String operation, int a , int b) {\n",
        "        if(\"add\".equals(operation)) {\n",
        "            return a + b;\n",
        "        } else if(\"subs\".equals(operation)) {\n",
        "            return a - b;\n",
        "        } else if(\"multiplication\".equals(operation)) {\n",
        "            return a * b;\n",
        "        } else if(\"division\".equals(operation)) {\n",
        "            return a / b;\n",
        "        }\n",
        "        return 0;\n",
        "    }\n",
        "\n",
        "}"
      ],
      "metadata": {
        "id": "QmO4IETic0Ed"
      },
      "execution_count": null,
      "outputs": []
    }
  ]
}