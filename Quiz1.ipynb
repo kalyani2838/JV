{
  "nbformat": 4,
  "nbformat_minor": 0,
  "metadata": {
    "colab": {
      "provenance": [],
      "include_colab_link": true
    },
    "kernelspec": {
      "name": "java",
      "display_name": "java"
    },
    "language_info": {
      "name": "java"
    }
  },
  "cells": [
    {
      "cell_type": "markdown",
      "metadata": {
        "id": "view-in-github",
        "colab_type": "text"
      },
      "source": [
        "<a href=\"https://colab.research.google.com/github/kalyani2838/JV/blob/main/Quiz1.ipynb\" target=\"_parent\"><img src=\"https://colab.research.google.com/assets/colab-badge.svg\" alt=\"Open In Colab\"/></a>"
      ]
    },
    {
      "cell_type": "markdown",
      "source": [
        "public class Main {\n",
        "   public static void main (String args[]) {\n",
        "        float i = (float)8.6;\n",
        "        float j = (float)9.7;\n",
        "        float sum = i + j;\n",
        "        System.out.println(\"sum of two floating numbers: \" + sum);\n",
        "    }\n",
        "   \n",
        "}"
      ],
      "metadata": {
        "id": "-UgsVbFTcihC"
      }
    }
  ]
}